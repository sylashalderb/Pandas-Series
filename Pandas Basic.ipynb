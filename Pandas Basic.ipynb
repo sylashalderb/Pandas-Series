{
 "cells": [
  {
   "cell_type": "code",
   "execution_count": 92,
   "id": "984cb52f",
   "metadata": {},
   "outputs": [],
   "source": [
    "import numpy as np\n",
    "import pandas as pd\n",
    "\n"
   ]
  },
  {
   "cell_type": "code",
   "execution_count": 2,
   "id": "5983ef00",
   "metadata": {},
   "outputs": [],
   "source": [
    "country = [\"Bangladesh\",\"USA\",\"India\",\"Pakistan\",\"Nepal\",\"Srilanka\"]"
   ]
  },
  {
   "cell_type": "code",
   "execution_count": 3,
   "id": "28818503",
   "metadata": {},
   "outputs": [
    {
     "data": {
      "text/plain": [
       "['Bangladesh', 'USA', 'India', 'Pakistan', 'Nepal', 'Srilanka']"
      ]
     },
     "execution_count": 3,
     "metadata": {},
     "output_type": "execute_result"
    }
   ],
   "source": [
    "country"
   ]
  },
  {
   "cell_type": "code",
   "execution_count": 7,
   "id": "f89ba64b",
   "metadata": {},
   "outputs": [],
   "source": [
    "a = pd.Series(country)"
   ]
  },
  {
   "cell_type": "code",
   "execution_count": 8,
   "id": "53c8400b",
   "metadata": {},
   "outputs": [],
   "source": [
    "marks = {\"math\":66,\n",
    "         \"english\": 57,\n",
    "         \"science\": 88,\n",
    "         \"Bangla\": 100    \n",
    "}"
   ]
  },
  {
   "cell_type": "code",
   "execution_count": 9,
   "id": "2e7d2d3c",
   "metadata": {},
   "outputs": [],
   "source": [
    "marks_series = pd.Series(marks,name=\"Sylas Halder\")"
   ]
  },
  {
   "cell_type": "code",
   "execution_count": 10,
   "id": "9ad7d4f2",
   "metadata": {},
   "outputs": [
    {
     "data": {
      "text/plain": [
       "math        66\n",
       "english     57\n",
       "science     88\n",
       "Bangla     100\n",
       "Name: Sylas Halder, dtype: int64"
      ]
     },
     "execution_count": 10,
     "metadata": {},
     "output_type": "execute_result"
    }
   ],
   "source": [
    "marks_series"
   ]
  },
  {
   "cell_type": "code",
   "execution_count": 12,
   "id": "e75c13ca",
   "metadata": {},
   "outputs": [
    {
     "data": {
      "text/plain": [
       "4"
      ]
     },
     "execution_count": 12,
     "metadata": {},
     "output_type": "execute_result"
    }
   ],
   "source": [
    "marks_series.size"
   ]
  },
  {
   "cell_type": "code",
   "execution_count": 13,
   "id": "31413702",
   "metadata": {},
   "outputs": [
    {
     "data": {
      "text/plain": [
       "dtype('int64')"
      ]
     },
     "execution_count": 13,
     "metadata": {},
     "output_type": "execute_result"
    }
   ],
   "source": [
    "marks_series.dtype"
   ]
  },
  {
   "cell_type": "code",
   "execution_count": 14,
   "id": "2bbbbe21",
   "metadata": {},
   "outputs": [
    {
     "data": {
      "text/plain": [
       "'Sylas Halder'"
      ]
     },
     "execution_count": 14,
     "metadata": {},
     "output_type": "execute_result"
    }
   ],
   "source": [
    "marks_series.name"
   ]
  },
  {
   "cell_type": "code",
   "execution_count": 15,
   "id": "7184da15",
   "metadata": {},
   "outputs": [
    {
     "data": {
      "text/plain": [
       "True"
      ]
     },
     "execution_count": 15,
     "metadata": {},
     "output_type": "execute_result"
    }
   ],
   "source": [
    "marks_series.is_unique"
   ]
  },
  {
   "cell_type": "code",
   "execution_count": 17,
   "id": "ded0aaa6",
   "metadata": {},
   "outputs": [
    {
     "data": {
      "text/plain": [
       "False"
      ]
     },
     "execution_count": 17,
     "metadata": {},
     "output_type": "execute_result"
    }
   ],
   "source": [
    "pd.Series([1,1,2,3,4,5,6]).is_unique"
   ]
  },
  {
   "cell_type": "code",
   "execution_count": 19,
   "id": "fdd66c70",
   "metadata": {},
   "outputs": [],
   "source": [
    "df = pd.read_csv(\"DailyDelhiClimateTest.csv\")"
   ]
  },
  {
   "cell_type": "code",
   "execution_count": 20,
   "id": "33bd8621",
   "metadata": {},
   "outputs": [
    {
     "data": {
      "text/html": [
       "<div>\n",
       "<style scoped>\n",
       "    .dataframe tbody tr th:only-of-type {\n",
       "        vertical-align: middle;\n",
       "    }\n",
       "\n",
       "    .dataframe tbody tr th {\n",
       "        vertical-align: top;\n",
       "    }\n",
       "\n",
       "    .dataframe thead th {\n",
       "        text-align: right;\n",
       "    }\n",
       "</style>\n",
       "<table border=\"1\" class=\"dataframe\">\n",
       "  <thead>\n",
       "    <tr style=\"text-align: right;\">\n",
       "      <th></th>\n",
       "      <th>date</th>\n",
       "      <th>meantemp</th>\n",
       "      <th>humidity</th>\n",
       "      <th>wind_speed</th>\n",
       "      <th>meanpressure</th>\n",
       "    </tr>\n",
       "  </thead>\n",
       "  <tbody>\n",
       "    <tr>\n",
       "      <th>0</th>\n",
       "      <td>2017-01-01</td>\n",
       "      <td>15.913043</td>\n",
       "      <td>85.869565</td>\n",
       "      <td>2.743478</td>\n",
       "      <td>59.000000</td>\n",
       "    </tr>\n",
       "    <tr>\n",
       "      <th>1</th>\n",
       "      <td>2017-01-02</td>\n",
       "      <td>18.500000</td>\n",
       "      <td>77.222222</td>\n",
       "      <td>2.894444</td>\n",
       "      <td>1018.277778</td>\n",
       "    </tr>\n",
       "    <tr>\n",
       "      <th>2</th>\n",
       "      <td>2017-01-03</td>\n",
       "      <td>17.111111</td>\n",
       "      <td>81.888889</td>\n",
       "      <td>4.016667</td>\n",
       "      <td>1018.333333</td>\n",
       "    </tr>\n",
       "    <tr>\n",
       "      <th>3</th>\n",
       "      <td>2017-01-04</td>\n",
       "      <td>18.700000</td>\n",
       "      <td>70.050000</td>\n",
       "      <td>4.545000</td>\n",
       "      <td>1015.700000</td>\n",
       "    </tr>\n",
       "    <tr>\n",
       "      <th>4</th>\n",
       "      <td>2017-01-05</td>\n",
       "      <td>18.388889</td>\n",
       "      <td>74.944444</td>\n",
       "      <td>3.300000</td>\n",
       "      <td>1014.333333</td>\n",
       "    </tr>\n",
       "    <tr>\n",
       "      <th>...</th>\n",
       "      <td>...</td>\n",
       "      <td>...</td>\n",
       "      <td>...</td>\n",
       "      <td>...</td>\n",
       "      <td>...</td>\n",
       "    </tr>\n",
       "    <tr>\n",
       "      <th>109</th>\n",
       "      <td>2017-04-20</td>\n",
       "      <td>34.500000</td>\n",
       "      <td>27.500000</td>\n",
       "      <td>5.562500</td>\n",
       "      <td>998.625000</td>\n",
       "    </tr>\n",
       "    <tr>\n",
       "      <th>110</th>\n",
       "      <td>2017-04-21</td>\n",
       "      <td>34.250000</td>\n",
       "      <td>39.375000</td>\n",
       "      <td>6.962500</td>\n",
       "      <td>999.875000</td>\n",
       "    </tr>\n",
       "    <tr>\n",
       "      <th>111</th>\n",
       "      <td>2017-04-22</td>\n",
       "      <td>32.900000</td>\n",
       "      <td>40.900000</td>\n",
       "      <td>8.890000</td>\n",
       "      <td>1001.600000</td>\n",
       "    </tr>\n",
       "    <tr>\n",
       "      <th>112</th>\n",
       "      <td>2017-04-23</td>\n",
       "      <td>32.875000</td>\n",
       "      <td>27.500000</td>\n",
       "      <td>9.962500</td>\n",
       "      <td>1002.125000</td>\n",
       "    </tr>\n",
       "    <tr>\n",
       "      <th>113</th>\n",
       "      <td>2017-04-24</td>\n",
       "      <td>32.000000</td>\n",
       "      <td>27.142857</td>\n",
       "      <td>12.157143</td>\n",
       "      <td>1004.142857</td>\n",
       "    </tr>\n",
       "  </tbody>\n",
       "</table>\n",
       "<p>114 rows × 5 columns</p>\n",
       "</div>"
      ],
      "text/plain": [
       "           date   meantemp   humidity  wind_speed  meanpressure\n",
       "0    2017-01-01  15.913043  85.869565    2.743478     59.000000\n",
       "1    2017-01-02  18.500000  77.222222    2.894444   1018.277778\n",
       "2    2017-01-03  17.111111  81.888889    4.016667   1018.333333\n",
       "3    2017-01-04  18.700000  70.050000    4.545000   1015.700000\n",
       "4    2017-01-05  18.388889  74.944444    3.300000   1014.333333\n",
       "..          ...        ...        ...         ...           ...\n",
       "109  2017-04-20  34.500000  27.500000    5.562500    998.625000\n",
       "110  2017-04-21  34.250000  39.375000    6.962500    999.875000\n",
       "111  2017-04-22  32.900000  40.900000    8.890000   1001.600000\n",
       "112  2017-04-23  32.875000  27.500000    9.962500   1002.125000\n",
       "113  2017-04-24  32.000000  27.142857   12.157143   1004.142857\n",
       "\n",
       "[114 rows x 5 columns]"
      ]
     },
     "execution_count": 20,
     "metadata": {},
     "output_type": "execute_result"
    }
   ],
   "source": [
    "df"
   ]
  },
  {
   "cell_type": "code",
   "execution_count": 21,
   "id": "d0d231cd",
   "metadata": {},
   "outputs": [],
   "source": [
    "Cl = df[\"meantemp\"]"
   ]
  },
  {
   "cell_type": "code",
   "execution_count": 22,
   "id": "e6c12d51",
   "metadata": {},
   "outputs": [
    {
     "data": {
      "text/plain": [
       "0      15.913043\n",
       "1      18.500000\n",
       "2      17.111111\n",
       "3      18.700000\n",
       "4      18.388889\n",
       "         ...    \n",
       "109    34.500000\n",
       "110    34.250000\n",
       "111    32.900000\n",
       "112    32.875000\n",
       "113    32.000000\n",
       "Name: meantemp, Length: 114, dtype: float64"
      ]
     },
     "execution_count": 22,
     "metadata": {},
     "output_type": "execute_result"
    }
   ],
   "source": [
    "Cl"
   ]
  },
  {
   "cell_type": "code",
   "execution_count": 24,
   "id": "0e9786fe",
   "metadata": {},
   "outputs": [
    {
     "data": {
      "text/plain": [
       "0    15.913043\n",
       "1    18.500000\n",
       "2    17.111111\n",
       "3    18.700000\n",
       "4    18.388889\n",
       "5    19.318182\n",
       "6    14.708333\n",
       "Name: meantemp, dtype: float64"
      ]
     },
     "execution_count": 24,
     "metadata": {},
     "output_type": "execute_result"
    }
   ],
   "source": [
    "Cl.head(7)"
   ]
  },
  {
   "cell_type": "code",
   "execution_count": 25,
   "id": "3e10fbe9",
   "metadata": {},
   "outputs": [
    {
     "data": {
      "text/plain": [
       "109    34.500\n",
       "110    34.250\n",
       "111    32.900\n",
       "112    32.875\n",
       "113    32.000\n",
       "Name: meantemp, dtype: float64"
      ]
     },
     "execution_count": 25,
     "metadata": {},
     "output_type": "execute_result"
    }
   ],
   "source": [
    "Cl.tail()"
   ]
  },
  {
   "cell_type": "code",
   "execution_count": 27,
   "id": "3357cbd1",
   "metadata": {},
   "outputs": [
    {
     "data": {
      "text/plain": [
       "44     16.875000\n",
       "108    33.500000\n",
       "54     19.125000\n",
       "4      18.388889\n",
       "102    29.666667\n",
       "Name: meantemp, dtype: float64"
      ]
     },
     "execution_count": 27,
     "metadata": {},
     "output_type": "execute_result"
    }
   ],
   "source": [
    "Cl.sample(5)"
   ]
  },
  {
   "cell_type": "code",
   "execution_count": 28,
   "id": "5edfb984",
   "metadata": {},
   "outputs": [
    {
     "data": {
      "text/plain": [
       "meantemp\n",
       "19.125000    3\n",
       "19.875000    2\n",
       "29.250000    2\n",
       "30.500000    2\n",
       "31.000000    2\n",
       "            ..\n",
       "17.090909    1\n",
       "15.250000    1\n",
       "16.125000    1\n",
       "16.444444    1\n",
       "32.000000    1\n",
       "Name: count, Length: 105, dtype: int64"
      ]
     },
     "execution_count": 28,
     "metadata": {},
     "output_type": "execute_result"
    }
   ],
   "source": [
    "Cl.value_counts()"
   ]
  },
  {
   "cell_type": "code",
   "execution_count": 33,
   "id": "ad27dd5f",
   "metadata": {},
   "outputs": [
    {
     "data": {
      "text/plain": [
       "34.5"
      ]
     },
     "execution_count": 33,
     "metadata": {},
     "output_type": "execute_result"
    }
   ],
   "source": [
    "Cl.sort_values(ascending=False).head(1).values[0]"
   ]
  },
  {
   "cell_type": "code",
   "execution_count": 34,
   "id": "fe75fcc7",
   "metadata": {},
   "outputs": [
    {
     "data": {
      "text/plain": [
       "10     11.000000\n",
       "16     11.722222\n",
       "11     11.789474\n",
       "9      12.111111\n",
       "17     13.041667\n",
       "         ...    \n",
       "111    32.900000\n",
       "108    33.500000\n",
       "107    34.000000\n",
       "110    34.250000\n",
       "109    34.500000\n",
       "Name: meantemp, Length: 114, dtype: float64"
      ]
     },
     "execution_count": 34,
     "metadata": {},
     "output_type": "execute_result"
    }
   ],
   "source": [
    "Cl.sort_values(ascending=True)"
   ]
  },
  {
   "cell_type": "code",
   "execution_count": 35,
   "id": "3bfc78c9",
   "metadata": {},
   "outputs": [
    {
     "data": {
      "text/plain": [
       "114"
      ]
     },
     "execution_count": 35,
     "metadata": {},
     "output_type": "execute_result"
    }
   ],
   "source": [
    "Cl.count()"
   ]
  },
  {
   "cell_type": "code",
   "execution_count": 36,
   "id": "0363940a",
   "metadata": {},
   "outputs": [
    {
     "data": {
      "text/plain": [
       "2475.2909969060192"
      ]
     },
     "execution_count": 36,
     "metadata": {},
     "output_type": "execute_result"
    }
   ],
   "source": [
    "Cl.sum()"
   ]
  },
  {
   "cell_type": "code",
   "execution_count": 37,
   "id": "d22615fb",
   "metadata": {},
   "outputs": [
    {
     "data": {
      "text/plain": [
       "21.713078920228238"
      ]
     },
     "execution_count": 37,
     "metadata": {},
     "output_type": "execute_result"
    }
   ],
   "source": [
    "Cl.mean()"
   ]
  },
  {
   "cell_type": "code",
   "execution_count": 38,
   "id": "da78fe68",
   "metadata": {},
   "outputs": [
    {
     "data": {
      "text/plain": [
       "34.5"
      ]
     },
     "execution_count": 38,
     "metadata": {},
     "output_type": "execute_result"
    }
   ],
   "source": [
    "Cl.max()"
   ]
  },
  {
   "cell_type": "code",
   "execution_count": 39,
   "id": "d2a561fa",
   "metadata": {},
   "outputs": [
    {
     "data": {
      "text/plain": [
       "11.0"
      ]
     },
     "execution_count": 39,
     "metadata": {},
     "output_type": "execute_result"
    }
   ],
   "source": [
    "Cl.min()"
   ]
  },
  {
   "cell_type": "code",
   "execution_count": 40,
   "id": "7404bf7a",
   "metadata": {},
   "outputs": [
    {
     "data": {
      "text/plain": [
       "count    114.000000\n",
       "mean      21.713079\n",
       "std        6.360072\n",
       "min       11.000000\n",
       "25%       16.437198\n",
       "50%       19.875000\n",
       "75%       27.705357\n",
       "max       34.500000\n",
       "Name: meantemp, dtype: float64"
      ]
     },
     "execution_count": 40,
     "metadata": {},
     "output_type": "execute_result"
    }
   ],
   "source": [
    "Cl.describe()"
   ]
  },
  {
   "cell_type": "code",
   "execution_count": 41,
   "id": "59e4e4a0",
   "metadata": {},
   "outputs": [],
   "source": [
    "#INdexing"
   ]
  },
  {
   "cell_type": "code",
   "execution_count": 42,
   "id": "e43a2bf5",
   "metadata": {},
   "outputs": [
    {
     "data": {
      "text/plain": [
       "0      15.913043\n",
       "1      18.500000\n",
       "2      17.111111\n",
       "3      18.700000\n",
       "4      18.388889\n",
       "         ...    \n",
       "109    34.500000\n",
       "110    34.250000\n",
       "111    32.900000\n",
       "112    32.875000\n",
       "113    32.000000\n",
       "Name: meantemp, Length: 114, dtype: float64"
      ]
     },
     "execution_count": 42,
     "metadata": {},
     "output_type": "execute_result"
    }
   ],
   "source": [
    "Cl"
   ]
  },
  {
   "cell_type": "code",
   "execution_count": 43,
   "id": "c8945bef",
   "metadata": {},
   "outputs": [
    {
     "ename": "KeyError",
     "evalue": "-1",
     "output_type": "error",
     "traceback": [
      "\u001b[1;31m---------------------------------------------------------------------------\u001b[0m",
      "\u001b[1;31mValueError\u001b[0m                                Traceback (most recent call last)",
      "File \u001b[1;32m~\\anaconda3\\Lib\\site-packages\\pandas\\core\\indexes\\range.py:345\u001b[0m, in \u001b[0;36mRangeIndex.get_loc\u001b[1;34m(self, key)\u001b[0m\n\u001b[0;32m    344\u001b[0m \u001b[38;5;28;01mtry\u001b[39;00m:\n\u001b[1;32m--> 345\u001b[0m     \u001b[38;5;28;01mreturn\u001b[39;00m \u001b[38;5;28mself\u001b[39m\u001b[38;5;241m.\u001b[39m_range\u001b[38;5;241m.\u001b[39mindex(new_key)\n\u001b[0;32m    346\u001b[0m \u001b[38;5;28;01mexcept\u001b[39;00m \u001b[38;5;167;01mValueError\u001b[39;00m \u001b[38;5;28;01mas\u001b[39;00m err:\n",
      "\u001b[1;31mValueError\u001b[0m: -1 is not in range",
      "\nThe above exception was the direct cause of the following exception:\n",
      "\u001b[1;31mKeyError\u001b[0m                                  Traceback (most recent call last)",
      "Cell \u001b[1;32mIn[43], line 1\u001b[0m\n\u001b[1;32m----> 1\u001b[0m Cl[\u001b[38;5;241m-\u001b[39m\u001b[38;5;241m1\u001b[39m]\n",
      "File \u001b[1;32m~\\anaconda3\\Lib\\site-packages\\pandas\\core\\series.py:1007\u001b[0m, in \u001b[0;36mSeries.__getitem__\u001b[1;34m(self, key)\u001b[0m\n\u001b[0;32m   1004\u001b[0m     \u001b[38;5;28;01mreturn\u001b[39;00m \u001b[38;5;28mself\u001b[39m\u001b[38;5;241m.\u001b[39m_values[key]\n\u001b[0;32m   1006\u001b[0m \u001b[38;5;28;01melif\u001b[39;00m key_is_scalar:\n\u001b[1;32m-> 1007\u001b[0m     \u001b[38;5;28;01mreturn\u001b[39;00m \u001b[38;5;28mself\u001b[39m\u001b[38;5;241m.\u001b[39m_get_value(key)\n\u001b[0;32m   1009\u001b[0m \u001b[38;5;28;01mif\u001b[39;00m is_hashable(key):\n\u001b[0;32m   1010\u001b[0m     \u001b[38;5;66;03m# Otherwise index.get_value will raise InvalidIndexError\u001b[39;00m\n\u001b[0;32m   1011\u001b[0m     \u001b[38;5;28;01mtry\u001b[39;00m:\n\u001b[0;32m   1012\u001b[0m         \u001b[38;5;66;03m# For labels that don't resolve as scalars like tuples and frozensets\u001b[39;00m\n",
      "File \u001b[1;32m~\\anaconda3\\Lib\\site-packages\\pandas\\core\\series.py:1116\u001b[0m, in \u001b[0;36mSeries._get_value\u001b[1;34m(self, label, takeable)\u001b[0m\n\u001b[0;32m   1113\u001b[0m     \u001b[38;5;28;01mreturn\u001b[39;00m \u001b[38;5;28mself\u001b[39m\u001b[38;5;241m.\u001b[39m_values[label]\n\u001b[0;32m   1115\u001b[0m \u001b[38;5;66;03m# Similar to Index.get_value, but we do not fall back to positional\u001b[39;00m\n\u001b[1;32m-> 1116\u001b[0m loc \u001b[38;5;241m=\u001b[39m \u001b[38;5;28mself\u001b[39m\u001b[38;5;241m.\u001b[39mindex\u001b[38;5;241m.\u001b[39mget_loc(label)\n\u001b[0;32m   1118\u001b[0m \u001b[38;5;28;01mif\u001b[39;00m is_integer(loc):\n\u001b[0;32m   1119\u001b[0m     \u001b[38;5;28;01mreturn\u001b[39;00m \u001b[38;5;28mself\u001b[39m\u001b[38;5;241m.\u001b[39m_values[loc]\n",
      "File \u001b[1;32m~\\anaconda3\\Lib\\site-packages\\pandas\\core\\indexes\\range.py:347\u001b[0m, in \u001b[0;36mRangeIndex.get_loc\u001b[1;34m(self, key)\u001b[0m\n\u001b[0;32m    345\u001b[0m         \u001b[38;5;28;01mreturn\u001b[39;00m \u001b[38;5;28mself\u001b[39m\u001b[38;5;241m.\u001b[39m_range\u001b[38;5;241m.\u001b[39mindex(new_key)\n\u001b[0;32m    346\u001b[0m     \u001b[38;5;28;01mexcept\u001b[39;00m \u001b[38;5;167;01mValueError\u001b[39;00m \u001b[38;5;28;01mas\u001b[39;00m err:\n\u001b[1;32m--> 347\u001b[0m         \u001b[38;5;28;01mraise\u001b[39;00m \u001b[38;5;167;01mKeyError\u001b[39;00m(key) \u001b[38;5;28;01mfrom\u001b[39;00m \u001b[38;5;21;01merr\u001b[39;00m\n\u001b[0;32m    348\u001b[0m \u001b[38;5;28;01mif\u001b[39;00m \u001b[38;5;28misinstance\u001b[39m(key, Hashable):\n\u001b[0;32m    349\u001b[0m     \u001b[38;5;28;01mraise\u001b[39;00m \u001b[38;5;167;01mKeyError\u001b[39;00m(key)\n",
      "\u001b[1;31mKeyError\u001b[0m: -1"
     ]
    }
   ],
   "source": [
    "Cl[-1]"
   ]
  },
  {
   "cell_type": "code",
   "execution_count": 45,
   "id": "4db73a7b",
   "metadata": {},
   "outputs": [
    {
     "data": {
      "text/plain": [
       "18.38888888888889"
      ]
     },
     "execution_count": 45,
     "metadata": {},
     "output_type": "execute_result"
    }
   ],
   "source": [
    "Cl[4]"
   ]
  },
  {
   "cell_type": "code",
   "execution_count": 46,
   "id": "9baffebb",
   "metadata": {},
   "outputs": [
    {
     "data": {
      "text/plain": [
       "18.7"
      ]
     },
     "execution_count": 46,
     "metadata": {},
     "output_type": "execute_result"
    }
   ],
   "source": [
    "Cl[3]"
   ]
  },
  {
   "cell_type": "code",
   "execution_count": 47,
   "id": "0862f165",
   "metadata": {},
   "outputs": [
    {
     "data": {
      "text/plain": [
       "29.25"
      ]
     },
     "execution_count": 47,
     "metadata": {},
     "output_type": "execute_result"
    }
   ],
   "source": [
    "Cl[100]"
   ]
  },
  {
   "cell_type": "code",
   "execution_count": 49,
   "id": "fcd89dd2",
   "metadata": {},
   "outputs": [
    {
     "data": {
      "text/plain": [
       "5     19.318182\n",
       "6     14.708333\n",
       "7     15.684211\n",
       "8     14.571429\n",
       "9     12.111111\n",
       "10    11.000000\n",
       "11    11.789474\n",
       "12    13.235294\n",
       "13    13.200000\n",
       "14    16.434783\n",
       "15    14.650000\n",
       "Name: meantemp, dtype: float64"
      ]
     },
     "execution_count": 49,
     "metadata": {},
     "output_type": "execute_result"
    }
   ],
   "source": [
    "Cl[5:16]"
   ]
  },
  {
   "cell_type": "code",
   "execution_count": 50,
   "id": "be334e48",
   "metadata": {},
   "outputs": [
    {
     "data": {
      "text/plain": [
       "109    34.500\n",
       "110    34.250\n",
       "111    32.900\n",
       "112    32.875\n",
       "113    32.000\n",
       "Name: meantemp, dtype: float64"
      ]
     },
     "execution_count": 50,
     "metadata": {},
     "output_type": "execute_result"
    }
   ],
   "source": [
    "Cl[-5:]"
   ]
  },
  {
   "cell_type": "code",
   "execution_count": 51,
   "id": "e0b6ba9f",
   "metadata": {},
   "outputs": [],
   "source": [
    "#Fancy Indexing"
   ]
  },
  {
   "cell_type": "code",
   "execution_count": 52,
   "id": "94489f6c",
   "metadata": {},
   "outputs": [
    {
     "data": {
      "text/plain": [
       "0      15.913043\n",
       "1      18.500000\n",
       "2      17.111111\n",
       "3      18.700000\n",
       "4      18.388889\n",
       "         ...    \n",
       "109    34.500000\n",
       "110    34.250000\n",
       "111    32.900000\n",
       "112    32.875000\n",
       "113    32.000000\n",
       "Name: meantemp, Length: 114, dtype: float64"
      ]
     },
     "execution_count": 52,
     "metadata": {},
     "output_type": "execute_result"
    }
   ],
   "source": [
    "Cl"
   ]
  },
  {
   "cell_type": "code",
   "execution_count": 53,
   "id": "52c4080b",
   "metadata": {},
   "outputs": [
    {
     "data": {
      "text/plain": [
       "90     31.375000\n",
       "99     27.857143\n",
       "100    29.250000\n",
       "Name: meantemp, dtype: float64"
      ]
     },
     "execution_count": 53,
     "metadata": {},
     "output_type": "execute_result"
    }
   ],
   "source": [
    "Cl[[90,99,100]]"
   ]
  },
  {
   "cell_type": "code",
   "execution_count": 54,
   "id": "0fdecfa8",
   "metadata": {},
   "outputs": [
    {
     "data": {
      "text/plain": [
       "0      15.913043\n",
       "2      17.111111\n",
       "4      18.388889\n",
       "6      14.708333\n",
       "8      14.571429\n",
       "10     11.000000\n",
       "12     13.235294\n",
       "14     16.434783\n",
       "16     11.722222\n",
       "18     14.619048\n",
       "20     15.391304\n",
       "22     18.117647\n",
       "24     21.000000\n",
       "26     16.500000\n",
       "28     15.666667\n",
       "30     16.125000\n",
       "32     17.090909\n",
       "34     18.700000\n",
       "36     16.888889\n",
       "38     15.700000\n",
       "40     14.666667\n",
       "42     16.250000\n",
       "44     16.875000\n",
       "46     20.250000\n",
       "48     21.125000\n",
       "50     23.375000\n",
       "52     19.125000\n",
       "54     19.125000\n",
       "56     18.750000\n",
       "58     23.333333\n",
       "60     23.750000\n",
       "62     19.125000\n",
       "64     20.000000\n",
       "66     21.545455\n",
       "68     19.937500\n",
       "70     17.375000\n",
       "72     18.000000\n",
       "74     24.000000\n",
       "76     24.692308\n",
       "78     23.333333\n",
       "80     27.250000\n",
       "82     28.916667\n",
       "84     29.100000\n",
       "86     29.888889\n",
       "88     29.285714\n",
       "90     31.375000\n",
       "92     30.500000\n",
       "94     29.230769\n",
       "96     27.000000\n",
       "98     27.125000\n",
       "100    29.250000\n",
       "102    29.666667\n",
       "104    31.222222\n",
       "106    32.555556\n",
       "108    33.500000\n",
       "110    34.250000\n",
       "112    32.875000\n",
       "Name: meantemp, dtype: float64"
      ]
     },
     "execution_count": 54,
     "metadata": {},
     "output_type": "execute_result"
    }
   ],
   "source": [
    "Cl[::2]"
   ]
  },
  {
   "cell_type": "code",
   "execution_count": 55,
   "id": "3c580115",
   "metadata": {},
   "outputs": [
    {
     "data": {
      "text/plain": [
       "0    15.913043\n",
       "1    18.500000\n",
       "2    17.111111\n",
       "3    18.700000\n",
       "4    18.388889\n",
       "Name: meantemp, dtype: float64"
      ]
     },
     "execution_count": 55,
     "metadata": {},
     "output_type": "execute_result"
    }
   ],
   "source": [
    "Cl.head()"
   ]
  },
  {
   "cell_type": "code",
   "execution_count": 56,
   "id": "dd1d391a",
   "metadata": {},
   "outputs": [
    {
     "name": "stderr",
     "output_type": "stream",
     "text": [
      "C:\\Users\\Sylas Halder\\AppData\\Local\\Temp\\ipykernel_12780\\1777045650.py:1: SettingWithCopyWarning: \n",
      "A value is trying to be set on a copy of a slice from a DataFrame\n",
      "\n",
      "See the caveats in the documentation: https://pandas.pydata.org/pandas-docs/stable/user_guide/indexing.html#returning-a-view-versus-a-copy\n",
      "  Cl[0]=20\n"
     ]
    },
    {
     "data": {
      "text/plain": [
       "0    20.000000\n",
       "1    18.500000\n",
       "2    17.111111\n",
       "3    18.700000\n",
       "4    18.388889\n",
       "Name: meantemp, dtype: float64"
      ]
     },
     "execution_count": 56,
     "metadata": {},
     "output_type": "execute_result"
    }
   ],
   "source": [
    "Cl[0]=20\n",
    "Cl.head()"
   ]
  },
  {
   "cell_type": "code",
   "execution_count": 57,
   "id": "db4aadb1",
   "metadata": {},
   "outputs": [
    {
     "data": {
      "text/plain": [
       "0    20.000000\n",
       "1    18.500000\n",
       "2    17.111111\n",
       "3    18.700000\n",
       "4    18.388889\n",
       "Name: meantemp, dtype: float64"
      ]
     },
     "execution_count": 57,
     "metadata": {},
     "output_type": "execute_result"
    }
   ],
   "source": [
    "Cl.head()"
   ]
  },
  {
   "cell_type": "code",
   "execution_count": 59,
   "id": "ba2c0779",
   "metadata": {},
   "outputs": [
    {
     "name": "stderr",
     "output_type": "stream",
     "text": [
      "C:\\Users\\Sylas Halder\\AppData\\Local\\Temp\\ipykernel_12780\\3596680502.py:1: SettingWithCopyWarning: \n",
      "A value is trying to be set on a copy of a slice from a DataFrame\n",
      "\n",
      "See the caveats in the documentation: https://pandas.pydata.org/pandas-docs/stable/user_guide/indexing.html#returning-a-view-versus-a-copy\n",
      "  Cl[4]=19\n"
     ]
    },
    {
     "data": {
      "text/plain": [
       "0    20.000000\n",
       "1    18.500000\n",
       "2    17.111111\n",
       "3    18.700000\n",
       "4    19.000000\n",
       "Name: meantemp, dtype: float64"
      ]
     },
     "execution_count": 59,
     "metadata": {},
     "output_type": "execute_result"
    }
   ],
   "source": [
    "Cl[4]=19\n",
    "Cl.head(5)"
   ]
  },
  {
   "cell_type": "code",
   "execution_count": 62,
   "id": "fb39d446",
   "metadata": {},
   "outputs": [
    {
     "name": "stderr",
     "output_type": "stream",
     "text": [
      "C:\\Users\\Sylas Halder\\AppData\\Local\\Temp\\ipykernel_12780\\1308035661.py:1: SettingWithCopyWarning: \n",
      "A value is trying to be set on a copy of a slice from a DataFrame\n",
      "\n",
      "See the caveats in the documentation: https://pandas.pydata.org/pandas-docs/stable/user_guide/indexing.html#returning-a-view-versus-a-copy\n",
      "  Cl[2:4] = [21,22]\n"
     ]
    }
   ],
   "source": [
    "Cl[2:4] = [21,22]\n"
   ]
  },
  {
   "cell_type": "code",
   "execution_count": 63,
   "id": "9e945783",
   "metadata": {},
   "outputs": [
    {
     "data": {
      "text/plain": [
       "<bound method NDFrame.head of 0      20.000\n",
       "1      18.500\n",
       "2      21.000\n",
       "3      22.000\n",
       "4      19.000\n",
       "        ...  \n",
       "109    34.500\n",
       "110    34.250\n",
       "111    32.900\n",
       "112    32.875\n",
       "113    32.000\n",
       "Name: meantemp, Length: 114, dtype: float64>"
      ]
     },
     "execution_count": 63,
     "metadata": {},
     "output_type": "execute_result"
    }
   ],
   "source": [
    "Cl.head"
   ]
  },
  {
   "cell_type": "code",
   "execution_count": 64,
   "id": "231b59a7",
   "metadata": {},
   "outputs": [
    {
     "data": {
      "text/plain": [
       "[20.0,\n",
       " 18.5,\n",
       " 21.0,\n",
       " 22.0,\n",
       " 19.0,\n",
       " 19.318181818181817,\n",
       " 14.708333333333334,\n",
       " 15.68421052631579,\n",
       " 14.571428571428571,\n",
       " 12.11111111111111,\n",
       " 11.0,\n",
       " 11.789473684210526,\n",
       " 13.235294117647058,\n",
       " 13.2,\n",
       " 16.434782608695652,\n",
       " 14.65,\n",
       " 11.72222222222222,\n",
       " 13.041666666666666,\n",
       " 14.61904761904762,\n",
       " 15.263157894736842,\n",
       " 15.391304347826088,\n",
       " 18.44,\n",
       " 18.11764705882353,\n",
       " 18.347826086956523,\n",
       " 21.0,\n",
       " 16.178571428571427,\n",
       " 16.5,\n",
       " 14.863636363636363,\n",
       " 15.666666666666666,\n",
       " 16.444444444444443,\n",
       " 16.125,\n",
       " 15.25,\n",
       " 17.09090909090909,\n",
       " 15.636363636363637,\n",
       " 18.7,\n",
       " 18.63157894736842,\n",
       " 16.88888888888889,\n",
       " 15.125,\n",
       " 15.7,\n",
       " 15.375,\n",
       " 14.666666666666666,\n",
       " 15.625,\n",
       " 16.25,\n",
       " 16.333333333333332,\n",
       " 16.875,\n",
       " 17.571428571428573,\n",
       " 20.25,\n",
       " 21.3,\n",
       " 21.125,\n",
       " 22.363636363636363,\n",
       " 23.375,\n",
       " 21.83333333333333,\n",
       " 19.125,\n",
       " 18.625,\n",
       " 19.125,\n",
       " 19.0,\n",
       " 18.75,\n",
       " 19.875,\n",
       " 23.33333333333333,\n",
       " 24.46153846153846,\n",
       " 23.75,\n",
       " 20.5,\n",
       " 19.125,\n",
       " 19.75,\n",
       " 20.0,\n",
       " 22.625,\n",
       " 21.545454545454547,\n",
       " 20.785714285714285,\n",
       " 19.9375,\n",
       " 18.53333333333333,\n",
       " 17.375,\n",
       " 17.444444444444443,\n",
       " 18.0,\n",
       " 19.875,\n",
       " 24.0,\n",
       " 20.9,\n",
       " 24.692307692307693,\n",
       " 24.666666666666668,\n",
       " 23.33333333333333,\n",
       " 25.0,\n",
       " 27.25,\n",
       " 28.0,\n",
       " 28.916666666666668,\n",
       " 26.5,\n",
       " 29.1,\n",
       " 29.5,\n",
       " 29.88888888888889,\n",
       " 31.0,\n",
       " 29.285714285714285,\n",
       " 30.625,\n",
       " 31.375,\n",
       " 29.75,\n",
       " 30.5,\n",
       " 30.933333333333334,\n",
       " 29.23076923076923,\n",
       " 31.22222222222222,\n",
       " 27.0,\n",
       " 25.625,\n",
       " 27.125,\n",
       " 27.857142857142858,\n",
       " 29.25,\n",
       " 29.25,\n",
       " 29.666666666666668,\n",
       " 30.5,\n",
       " 31.22222222222222,\n",
       " 31.0,\n",
       " 32.55555555555556,\n",
       " 34.0,\n",
       " 33.5,\n",
       " 34.5,\n",
       " 34.25,\n",
       " 32.9,\n",
       " 32.875,\n",
       " 32.0]"
      ]
     },
     "execution_count": 64,
     "metadata": {},
     "output_type": "execute_result"
    }
   ],
   "source": [
    "list(Cl)"
   ]
  },
  {
   "cell_type": "code",
   "execution_count": 65,
   "id": "47daf108",
   "metadata": {},
   "outputs": [
    {
     "data": {
      "text/plain": [
       "{0: 20.0,\n",
       " 1: 18.5,\n",
       " 2: 21.0,\n",
       " 3: 22.0,\n",
       " 4: 19.0,\n",
       " 5: 19.318181818181817,\n",
       " 6: 14.708333333333334,\n",
       " 7: 15.68421052631579,\n",
       " 8: 14.571428571428571,\n",
       " 9: 12.11111111111111,\n",
       " 10: 11.0,\n",
       " 11: 11.789473684210526,\n",
       " 12: 13.235294117647058,\n",
       " 13: 13.2,\n",
       " 14: 16.434782608695652,\n",
       " 15: 14.65,\n",
       " 16: 11.72222222222222,\n",
       " 17: 13.041666666666666,\n",
       " 18: 14.61904761904762,\n",
       " 19: 15.263157894736842,\n",
       " 20: 15.391304347826088,\n",
       " 21: 18.44,\n",
       " 22: 18.11764705882353,\n",
       " 23: 18.347826086956523,\n",
       " 24: 21.0,\n",
       " 25: 16.178571428571427,\n",
       " 26: 16.5,\n",
       " 27: 14.863636363636363,\n",
       " 28: 15.666666666666666,\n",
       " 29: 16.444444444444443,\n",
       " 30: 16.125,\n",
       " 31: 15.25,\n",
       " 32: 17.09090909090909,\n",
       " 33: 15.636363636363637,\n",
       " 34: 18.7,\n",
       " 35: 18.63157894736842,\n",
       " 36: 16.88888888888889,\n",
       " 37: 15.125,\n",
       " 38: 15.7,\n",
       " 39: 15.375,\n",
       " 40: 14.666666666666666,\n",
       " 41: 15.625,\n",
       " 42: 16.25,\n",
       " 43: 16.333333333333332,\n",
       " 44: 16.875,\n",
       " 45: 17.571428571428573,\n",
       " 46: 20.25,\n",
       " 47: 21.3,\n",
       " 48: 21.125,\n",
       " 49: 22.363636363636363,\n",
       " 50: 23.375,\n",
       " 51: 21.83333333333333,\n",
       " 52: 19.125,\n",
       " 53: 18.625,\n",
       " 54: 19.125,\n",
       " 55: 19.0,\n",
       " 56: 18.75,\n",
       " 57: 19.875,\n",
       " 58: 23.33333333333333,\n",
       " 59: 24.46153846153846,\n",
       " 60: 23.75,\n",
       " 61: 20.5,\n",
       " 62: 19.125,\n",
       " 63: 19.75,\n",
       " 64: 20.0,\n",
       " 65: 22.625,\n",
       " 66: 21.545454545454547,\n",
       " 67: 20.785714285714285,\n",
       " 68: 19.9375,\n",
       " 69: 18.53333333333333,\n",
       " 70: 17.375,\n",
       " 71: 17.444444444444443,\n",
       " 72: 18.0,\n",
       " 73: 19.875,\n",
       " 74: 24.0,\n",
       " 75: 20.9,\n",
       " 76: 24.692307692307693,\n",
       " 77: 24.666666666666668,\n",
       " 78: 23.33333333333333,\n",
       " 79: 25.0,\n",
       " 80: 27.25,\n",
       " 81: 28.0,\n",
       " 82: 28.916666666666668,\n",
       " 83: 26.5,\n",
       " 84: 29.1,\n",
       " 85: 29.5,\n",
       " 86: 29.88888888888889,\n",
       " 87: 31.0,\n",
       " 88: 29.285714285714285,\n",
       " 89: 30.625,\n",
       " 90: 31.375,\n",
       " 91: 29.75,\n",
       " 92: 30.5,\n",
       " 93: 30.933333333333334,\n",
       " 94: 29.23076923076923,\n",
       " 95: 31.22222222222222,\n",
       " 96: 27.0,\n",
       " 97: 25.625,\n",
       " 98: 27.125,\n",
       " 99: 27.857142857142858,\n",
       " 100: 29.25,\n",
       " 101: 29.25,\n",
       " 102: 29.666666666666668,\n",
       " 103: 30.5,\n",
       " 104: 31.22222222222222,\n",
       " 105: 31.0,\n",
       " 106: 32.55555555555556,\n",
       " 107: 34.0,\n",
       " 108: 33.5,\n",
       " 109: 34.5,\n",
       " 110: 34.25,\n",
       " 111: 32.9,\n",
       " 112: 32.875,\n",
       " 113: 32.0}"
      ]
     },
     "execution_count": 65,
     "metadata": {},
     "output_type": "execute_result"
    }
   ],
   "source": [
    "dict(Cl)"
   ]
  },
  {
   "cell_type": "code",
   "execution_count": 66,
   "id": "88453bad",
   "metadata": {},
   "outputs": [
    {
     "data": {
      "text/plain": [
       "0      20.000\n",
       "1      18.500\n",
       "2      21.000\n",
       "3      22.000\n",
       "4      19.000\n",
       "        ...  \n",
       "109    34.500\n",
       "110    34.250\n",
       "111    32.900\n",
       "112    32.875\n",
       "113    32.000\n",
       "Name: meantemp, Length: 114, dtype: float64"
      ]
     },
     "execution_count": 66,
     "metadata": {},
     "output_type": "execute_result"
    }
   ],
   "source": [
    "Cl"
   ]
  },
  {
   "cell_type": "code",
   "execution_count": 67,
   "id": "bad00c8c",
   "metadata": {},
   "outputs": [
    {
     "data": {
      "text/plain": [
       "0      120.000\n",
       "1      118.500\n",
       "2      121.000\n",
       "3      122.000\n",
       "4      119.000\n",
       "        ...   \n",
       "109    134.500\n",
       "110    134.250\n",
       "111    132.900\n",
       "112    132.875\n",
       "113    132.000\n",
       "Name: meantemp, Length: 114, dtype: float64"
      ]
     },
     "execution_count": 67,
     "metadata": {},
     "output_type": "execute_result"
    }
   ],
   "source": [
    "100+Cl"
   ]
  },
  {
   "cell_type": "code",
   "execution_count": 68,
   "id": "f26283d1",
   "metadata": {},
   "outputs": [
    {
     "data": {
      "text/plain": [
       "0      20.000\n",
       "1      18.500\n",
       "2      21.000\n",
       "3      22.000\n",
       "4      19.000\n",
       "        ...  \n",
       "109    34.500\n",
       "110    34.250\n",
       "111    32.900\n",
       "112    32.875\n",
       "113    32.000\n",
       "Name: meantemp, Length: 114, dtype: float64"
      ]
     },
     "execution_count": 68,
     "metadata": {},
     "output_type": "execute_result"
    }
   ],
   "source": [
    "Cl"
   ]
  },
  {
   "cell_type": "code",
   "execution_count": 71,
   "id": "8af02fc8",
   "metadata": {},
   "outputs": [
    {
     "data": {
      "text/plain": [
       "2      21.000000\n",
       "3      22.000000\n",
       "24     21.000000\n",
       "46     20.250000\n",
       "47     21.300000\n",
       "48     21.125000\n",
       "49     22.363636\n",
       "50     23.375000\n",
       "51     21.833333\n",
       "58     23.333333\n",
       "59     24.461538\n",
       "60     23.750000\n",
       "61     20.500000\n",
       "65     22.625000\n",
       "66     21.545455\n",
       "67     20.785714\n",
       "74     24.000000\n",
       "75     20.900000\n",
       "76     24.692308\n",
       "77     24.666667\n",
       "78     23.333333\n",
       "79     25.000000\n",
       "80     27.250000\n",
       "81     28.000000\n",
       "82     28.916667\n",
       "83     26.500000\n",
       "84     29.100000\n",
       "85     29.500000\n",
       "86     29.888889\n",
       "87     31.000000\n",
       "88     29.285714\n",
       "89     30.625000\n",
       "90     31.375000\n",
       "91     29.750000\n",
       "92     30.500000\n",
       "93     30.933333\n",
       "94     29.230769\n",
       "95     31.222222\n",
       "96     27.000000\n",
       "97     25.625000\n",
       "98     27.125000\n",
       "99     27.857143\n",
       "100    29.250000\n",
       "101    29.250000\n",
       "102    29.666667\n",
       "103    30.500000\n",
       "104    31.222222\n",
       "105    31.000000\n",
       "106    32.555556\n",
       "107    34.000000\n",
       "108    33.500000\n",
       "109    34.500000\n",
       "110    34.250000\n",
       "111    32.900000\n",
       "112    32.875000\n",
       "113    32.000000\n",
       "Name: meantemp, dtype: float64"
      ]
     },
     "execution_count": 71,
     "metadata": {},
     "output_type": "execute_result"
    }
   ],
   "source": [
    "Cl[Cl>20]"
   ]
  },
  {
   "cell_type": "code",
   "execution_count": 76,
   "id": "8b7cce57",
   "metadata": {},
   "outputs": [
    {
     "data": {
      "text/plain": [
       "72    18.0\n",
       "Name: meantemp, dtype: float64"
      ]
     },
     "execution_count": 76,
     "metadata": {},
     "output_type": "execute_result"
    }
   ],
   "source": [
    "Cl[Cl == 18]"
   ]
  },
  {
   "cell_type": "code",
   "execution_count": 78,
   "id": "0edff036",
   "metadata": {},
   "outputs": [
    {
     "data": {
      "text/plain": [
       "<Axes: >"
      ]
     },
     "execution_count": 78,
     "metadata": {},
     "output_type": "execute_result"
    },
    {
     "data": {
      "image/png": "[encoded data removed]",
      "text/plain": [
       "<Figure size 640x480 with 1 Axes>"
      ]
     },
     "metadata": {},
     "output_type": "display_data"
    }
   ],
   "source": [
    "Cl.plot()"
   ]
  },
  {
   "cell_type": "code",
   "execution_count": 79,
   "id": "dbd16510",
   "metadata": {},
   "outputs": [
    {
     "data": {
      "text/plain": [
       "<Axes: ylabel='count'>"
      ]
     },
     "execution_count": 79,
     "metadata": {},
     "output_type": "execute_result"
    },
    {
     "data": {
      "image/png": "[encoded data removed]",
      "text/plain": [
       "<Figure size 640x480 with 1 Axes>"
      ]
     },
     "metadata": {},
     "output_type": "display_data"
    }
   ],
   "source": [
    "Cl.value_counts().head(20).plot(kind = \"pie\")"
   ]
  },
  {
   "cell_type": "code",
   "execution_count": 81,
   "id": "12fed65c",
   "metadata": {},
   "outputs": [
    {
     "data": {
      "text/plain": [
       "11"
      ]
     },
     "execution_count": 81,
     "metadata": {},
     "output_type": "execute_result"
    }
   ],
   "source": [
    "Cl.duplicated().sum()"
   ]
  },
  {
   "cell_type": "code",
   "execution_count": 83,
   "id": "6fad4718",
   "metadata": {},
   "outputs": [],
   "source": [
    "n = Cl.drop_duplicates()"
   ]
  },
  {
   "cell_type": "code",
   "execution_count": 84,
   "id": "7e8c6f67",
   "metadata": {},
   "outputs": [
    {
     "data": {
      "text/plain": [
       "0      20.000\n",
       "1      18.500\n",
       "2      21.000\n",
       "3      22.000\n",
       "4      19.000\n",
       "        ...  \n",
       "109    34.500\n",
       "110    34.250\n",
       "111    32.900\n",
       "112    32.875\n",
       "113    32.000\n",
       "Name: meantemp, Length: 103, dtype: float64"
      ]
     },
     "execution_count": 84,
     "metadata": {},
     "output_type": "execute_result"
    }
   ],
   "source": [
    "n"
   ]
  },
  {
   "cell_type": "code",
   "execution_count": 85,
   "id": "21e2699c",
   "metadata": {},
   "outputs": [
    {
     "data": {
      "text/plain": [
       "0"
      ]
     },
     "execution_count": 85,
     "metadata": {},
     "output_type": "execute_result"
    }
   ],
   "source": [
    "n.duplicated().sum()"
   ]
  },
  {
   "cell_type": "code",
   "execution_count": 98,
   "id": "ebf943a5",
   "metadata": {},
   "outputs": [
    {
     "data": {
      "text/plain": [
       "0"
      ]
     },
     "execution_count": 98,
     "metadata": {},
     "output_type": "execute_result"
    }
   ],
   "source": [
    "Cl.isnull().sum()"
   ]
  },
  {
   "cell_type": "code",
   "execution_count": 101,
   "id": "7b59cb87",
   "metadata": {},
   "outputs": [
    {
     "data": {
      "text/plain": [
       "0     20.0\n",
       "64    20.0\n",
       "72    18.0\n",
       "Name: meantemp, dtype: float64"
      ]
     },
     "execution_count": 101,
     "metadata": {},
     "output_type": "execute_result"
    }
   ],
   "source": [
    "Cl[(Cl == 18) | (Cl == 20)]"
   ]
  },
  {
   "cell_type": "code",
   "execution_count": null,
   "id": "abfa0240",
   "metadata": {},
   "outputs": [],
   "source": []
  }
 ],
 "metadata": {
  "kernelspec": {
   "display_name": "Python 3 (ipykernel)",
   "language": "python",
   "name": "python3"
  },
  "language_info": {
   "codemirror_mode": {
    "name": "ipython",
    "version": 3
   },
   "file_extension": ".py",
   "mimetype": "text/x-python",
   "name": "python",
   "nbconvert_exporter": "python",
   "pygments_lexer": "ipython3",
   "version": "3.11.5"
  }
 },
 "nbformat": 4,
 "nbformat_minor": 5
}
